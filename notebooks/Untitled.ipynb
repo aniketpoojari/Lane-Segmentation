{
 "cells": [
  {
   "cell_type": "markdown",
   "id": "14b5c11f",
   "metadata": {},
   "source": [
    "# IMPORTING LIBRARIES"
   ]
  },
  {
   "cell_type": "code",
   "execution_count": 1,
   "id": "32dfe404",
   "metadata": {},
   "outputs": [],
   "source": [
    "from flask import Flask, render_template, Response, request\n",
    "import cv2\n",
    "import numpy as np\n",
    "from flask_ngrok import run_with_ngrok\n",
    "import base64\n",
    "from PIL import Image\n",
    "import io\n",
    "\n",
    "import torch\n",
    "from torch.utils.data import Dataset, DataLoader\n",
    "from torchvision.transforms import functional as F\n",
    "from torchvision.transforms import Compose, ToTensor, Resize, Normalize"
   ]
  },
  {
   "cell_type": "markdown",
   "id": "88535b9d",
   "metadata": {},
   "source": [
    "# FLASK"
   ]
  },
  {
   "cell_type": "code",
   "execution_count": 2,
   "id": "cc8067dc",
   "metadata": {},
   "outputs": [],
   "source": [
    "model = torch.load('best_model.pth')"
   ]
  },
  {
   "cell_type": "code",
   "execution_count": 26,
   "id": "3c565b98",
   "metadata": {},
   "outputs": [
    {
     "name": "stdout",
     "output_type": "stream",
     "text": [
      " * Serving Flask app \"__main__\" (lazy loading)\n",
      " * Environment: production\n",
      "   WARNING: This is a development server. Do not use it in a production deployment.\n",
      "   Use a production WSGI server instead.\n",
      " * Debug mode: off\n"
     ]
    },
    {
     "name": "stderr",
     "output_type": "stream",
     "text": [
      " * Running on http://127.0.0.1:5000/ (Press CTRL+C to quit)\n",
      "127.0.0.1 - - [21/Sep/2021 15:42:49] \"POST /test HTTP/1.1\" 200 -\n"
     ]
    },
    {
     "name": "stdout",
     "output_type": "stream",
     "text": [
      " * Running on http://c222-103-226-144-209.ngrok.io\n",
      " * Traffic stats available on http://127.0.0.1:4040\n"
     ]
    },
    {
     "name": "stderr",
     "output_type": "stream",
     "text": [
      "127.0.0.1 - - [21/Sep/2021 15:42:55] \"POST /test HTTP/1.1\" 200 -\n",
      "127.0.0.1 - - [21/Sep/2021 15:42:55] \"GET / HTTP/1.1\" 200 -\n",
      "127.0.0.1 - - [21/Sep/2021 15:43:00] \"POST /test HTTP/1.1\" 200 -\n",
      "127.0.0.1 - - [21/Sep/2021 15:43:00] \"POST /test HTTP/1.1\" 200 -\n",
      "127.0.0.1 - - [21/Sep/2021 15:43:04] \"POST /test HTTP/1.1\" 200 -\n",
      "127.0.0.1 - - [21/Sep/2021 15:43:08] \"POST /test HTTP/1.1\" 200 -\n",
      "127.0.0.1 - - [21/Sep/2021 15:43:17] \"POST /test HTTP/1.1\" 200 -\n",
      "127.0.0.1 - - [21/Sep/2021 15:43:30] \"POST /test HTTP/1.1\" 200 -\n",
      "127.0.0.1 - - [21/Sep/2021 15:43:36] \"POST /test HTTP/1.1\" 200 -\n",
      "127.0.0.1 - - [21/Sep/2021 15:43:41] \"POST /test HTTP/1.1\" 200 -\n",
      "127.0.0.1 - - [21/Sep/2021 15:43:52] \"POST /test HTTP/1.1\" 200 -\n",
      "127.0.0.1 - - [21/Sep/2021 15:43:58] \"POST /test HTTP/1.1\" 200 -\n",
      "127.0.0.1 - - [21/Sep/2021 15:44:02] \"POST /test HTTP/1.1\" 200 -\n",
      "127.0.0.1 - - [21/Sep/2021 15:44:07] \"POST /test HTTP/1.1\" 200 -\n",
      "127.0.0.1 - - [21/Sep/2021 15:44:25] \"POST /test HTTP/1.1\" 200 -\n",
      "127.0.0.1 - - [21/Sep/2021 15:45:02] \"POST /test HTTP/1.1\" 200 -\n",
      "127.0.0.1 - - [21/Sep/2021 15:46:03] \"POST /test HTTP/1.1\" 200 -\n",
      "127.0.0.1 - - [21/Sep/2021 15:46:16] \"POST /test HTTP/1.1\" 200 -\n",
      "127.0.0.1 - - [21/Sep/2021 15:46:40] \"POST /test HTTP/1.1\" 200 -\n",
      "127.0.0.1 - - [21/Sep/2021 15:47:04] \"POST /test HTTP/1.1\" 200 -\n",
      "127.0.0.1 - - [21/Sep/2021 15:47:09] \"POST /test HTTP/1.1\" 200 -\n",
      "127.0.0.1 - - [21/Sep/2021 15:47:13] \"POST /test HTTP/1.1\" 200 -\n",
      "127.0.0.1 - - [21/Sep/2021 15:47:18] \"POST /test HTTP/1.1\" 200 -\n",
      "127.0.0.1 - - [21/Sep/2021 15:47:22] \"POST /test HTTP/1.1\" 200 -\n",
      "127.0.0.1 - - [21/Sep/2021 15:47:27] \"POST /test HTTP/1.1\" 200 -\n",
      "127.0.0.1 - - [21/Sep/2021 15:47:40] \"POST /test HTTP/1.1\" 200 -\n",
      "127.0.0.1 - - [21/Sep/2021 15:47:45] \"POST /test HTTP/1.1\" 200 -\n",
      "127.0.0.1 - - [21/Sep/2021 15:47:49] \"POST /test HTTP/1.1\" 200 -\n",
      "127.0.0.1 - - [21/Sep/2021 15:47:56] \"POST /test HTTP/1.1\" 200 -\n",
      "127.0.0.1 - - [21/Sep/2021 15:48:02] \"POST /test HTTP/1.1\" 200 -\n",
      "127.0.0.1 - - [21/Sep/2021 15:48:30] \"POST /test HTTP/1.1\" 200 -\n",
      "127.0.0.1 - - [21/Sep/2021 15:49:02] \"POST /test HTTP/1.1\" 200 -\n",
      "127.0.0.1 - - [21/Sep/2021 15:49:16] \"POST /test HTTP/1.1\" 200 -\n",
      "127.0.0.1 - - [21/Sep/2021 15:49:42] \"POST /test HTTP/1.1\" 200 -\n",
      "127.0.0.1 - - [21/Sep/2021 15:49:47] \"POST /test HTTP/1.1\" 200 -\n",
      "127.0.0.1 - - [21/Sep/2021 15:49:53] \"POST /test HTTP/1.1\" 200 -\n",
      "127.0.0.1 - - [21/Sep/2021 15:49:58] \"POST /test HTTP/1.1\" 200 -\n",
      "127.0.0.1 - - [21/Sep/2021 15:50:03] \"POST /test HTTP/1.1\" 200 -\n",
      "127.0.0.1 - - [21/Sep/2021 15:50:33] \"POST /test HTTP/1.1\" 200 -\n",
      "127.0.0.1 - - [21/Sep/2021 15:50:39] \"POST /test HTTP/1.1\" 200 -\n",
      "127.0.0.1 - - [21/Sep/2021 15:50:48] \"POST /test HTTP/1.1\" 200 -\n",
      "127.0.0.1 - - [21/Sep/2021 15:50:58] \"POST /test HTTP/1.1\" 200 -\n",
      "127.0.0.1 - - [21/Sep/2021 15:51:06] \"POST /test HTTP/1.1\" 200 -\n",
      "127.0.0.1 - - [21/Sep/2021 15:51:18] \"POST /test HTTP/1.1\" 200 -\n",
      "127.0.0.1 - - [21/Sep/2021 15:51:24] \"POST /test HTTP/1.1\" 200 -\n",
      "127.0.0.1 - - [21/Sep/2021 15:51:29] \"POST /test HTTP/1.1\" 200 -\n",
      "127.0.0.1 - - [21/Sep/2021 15:52:05] \"POST /test HTTP/1.1\" 200 -\n",
      "127.0.0.1 - - [21/Sep/2021 15:52:28] \"POST /test HTTP/1.1\" 200 -\n",
      "127.0.0.1 - - [21/Sep/2021 15:52:58] \"POST /test HTTP/1.1\" 200 -\n",
      "127.0.0.1 - - [21/Sep/2021 15:53:17] \"POST /test HTTP/1.1\" 200 -\n",
      "127.0.0.1 - - [21/Sep/2021 15:53:52] \"POST /test HTTP/1.1\" 200 -\n",
      "127.0.0.1 - - [21/Sep/2021 15:53:57] \"POST /test HTTP/1.1\" 200 -\n",
      "127.0.0.1 - - [21/Sep/2021 15:54:25] \"POST /test HTTP/1.1\" 400 -\n"
     ]
    }
   ],
   "source": [
    "app = Flask(__name__)\n",
    "run_with_ngrok(app)\n",
    "\n",
    "def predict(image):\n",
    "    image = Image.fromarray(np.array(image)[...,:3])\n",
    "    image = Compose([Resize((224, 224)), ToTensor()])(image)\n",
    "    image = Compose([Normalize(\n",
    "        mean = [0.485, 0.456, 0.406],\n",
    "        std = [0.229, 0.224, 0.225])]\n",
    "                   )(image)\n",
    "    model.eval()\n",
    "    output = model(image.view(1, 3, 224, 224).to(\"cuda\")).cpu().detach().squeeze().numpy()\n",
    "    output = output>0.5\n",
    "    output = output.astype('float32')\n",
    "    output = cv2.cvtColor(output, cv2.COLOR_GRAY2BGR)\n",
    "    output = Image.fromarray((output*255).astype(np.uint8))\n",
    "    return output\n",
    "   \n",
    "    \n",
    "@app.route('/')\n",
    "def index():\n",
    "    return render_template('index.html')\n",
    "\n",
    "@app.route('/test', methods=['GET','POST'])\n",
    "def test():\n",
    "    if request.method == \"POST\":\n",
    "        x = request.data.decode(\"utf-8\")\n",
    "        filename = 'some_image.jpg'\n",
    "        with open(filename, 'wb') as f:\n",
    "            f.write(base64.b64decode(x))\n",
    "        image = Image.open(filename)\n",
    "        im = predict(image)\n",
    "        im = im.transpose(Image.FLIP_LEFT_RIGHT)\n",
    "        data = io.BytesIO()\n",
    "        im.save(data, \"JPEG\")\n",
    "        encoded_img_data = base64.b64encode(data.getvalue())\n",
    "        return Response(encoded_img_data.decode('utf-8'), mimetype='multipart/x-mixed-replace; boundary=frame')\n",
    "\n",
    "if __name__=='__main__':\n",
    "    app.run()"
   ]
  },
  {
   "cell_type": "code",
   "execution_count": null,
   "id": "64fd1838",
   "metadata": {},
   "outputs": [],
   "source": []
  }
 ],
 "metadata": {
  "kernelspec": {
   "display_name": "Python 3 (ipykernel)",
   "language": "python",
   "name": "python3"
  },
  "language_info": {
   "codemirror_mode": {
    "name": "ipython",
    "version": 3
   },
   "file_extension": ".py",
   "mimetype": "text/x-python",
   "name": "python",
   "nbconvert_exporter": "python",
   "pygments_lexer": "ipython3",
   "version": "3.9.12"
  }
 },
 "nbformat": 4,
 "nbformat_minor": 5
}
